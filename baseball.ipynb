{
 "cells": [
  {
   "cell_type": "code",
   "execution_count": 12,
   "metadata": {},
   "outputs": [],
   "source": [
    "import numpy as np\n",
    "import pandas as pd\n",
    "from sklearn.model_selection import train_test_split\n",
    "from sklearn.tree import DecisionTreeClassifier\n",
    "from sklearn.metrics import accuracy_score\n",
    "from sklearn import tree\n",
    "import joblib\n"
   ]
  },
  {
   "cell_type": "code",
   "execution_count": 19,
   "metadata": {},
   "outputs": [
    {
     "name": "stdout",
     "output_type": "stream",
     "text": [
      "31360 \n",
      "\n",
      "896 \n",
      "\n"
     ]
    }
   ],
   "source": [
    "playerData = pd.read_csv(\"baseball_data.csv\")\n",
    "playerData.head(5)\n",
    "\n",
    "dropColumns = [\"Lg\", \"Team\", \"HBP\", \"SH\", \"SF\", \"Pos\", \"Awards\",\"Rbat+\", \"Player-additional\", \"Rk\"]\n",
    "playerData.drop(dropColumns, axis=1)\n",
    "print(playerData.size, '\\n')\n",
    "playerData = playerData[\"WAR\"]!=0\n",
    "print(playerData.size, '\\n')\n"
   ]
  },
  {
   "cell_type": "code",
   "execution_count": null,
   "metadata": {},
   "outputs": [],
   "source": [
    "playerData.head()"
   ]
  }
 ],
 "metadata": {
  "kernelspec": {
   "display_name": "Python 3",
   "language": "python",
   "name": "python3"
  },
  "language_info": {
   "codemirror_mode": {
    "name": "ipython",
    "version": 3
   },
   "file_extension": ".py",
   "mimetype": "text/x-python",
   "name": "python",
   "nbconvert_exporter": "python",
   "pygments_lexer": "ipython3",
   "version": "3.12.3"
  }
 },
 "nbformat": 4,
 "nbformat_minor": 2
}
